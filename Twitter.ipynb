{
 "cells": [
  {
   "cell_type": "code",
   "execution_count": 1,
   "metadata": {},
   "outputs": [],
   "source": [
    "import pandas as pd\n",
    "import numpy as np\n",
    "import matplotlib.pyplot as plt\n",
    "import seaborn as sns\n",
    "%matplotlib inline\n",
    "import bs4\n",
    "from urllib.request import urlopen\n",
    "from bs4 import BeautifulSoup\n",
    "\n",
    "from time import sleep\n",
    "from selenium import webdriver\n",
    "from selenium.webdriver.common.keys import Keys\n",
    "import xlrd "
   ]
  },
  {
   "cell_type": "code",
   "execution_count": 2,
   "metadata": {},
   "outputs": [],
   "source": [
    "driver = webdriver.Chrome(r'E:\\chromedriver_win32\\\\chromedriver')\n",
    "driver.get('https://twitter.com/explore')\n",
    "sleep(2)\n",
    "\n",
    "#https://twitter.com/login?lang=en\n",
    "#'https://www.twitter.com"
   ]
  },
  {
   "cell_type": "code",
   "execution_count": 3,
   "metadata": {},
   "outputs": [
    {
     "name": "stdout",
     "output_type": "stream",
     "text": [
      "<selenium.webdriver.remote.webelement.WebElement (session=\"804bb5b5876b18b3c6cccc0901ed1c97\", element=\"b739f12a-e0c5-4005-883a-9c09dbd29be4\")>\n"
     ]
    }
   ],
   "source": [
    "user = driver.find_element_by_name(\"session[username_or_email]\")\n",
    "print(user)\n",
    "user.send_keys(\"anilkumarye@gmail.com\")\n",
    "\n",
    "\n",
    "pasw = driver.find_element_by_name(\"session[password]\")\n",
    "\n",
    "pasw.send_keys('Aneb786')\n",
    "\n",
    "#driver.find_element_by_class(\"css-901oao css-16my406 css-bfa6kz r-1qd0xha r-ad9z0x r-bcqeeo r-qvutc0\").click()\n",
    "\n",
    "driver.find_element_by_xpath(\"//span[@class='css-901oao css-16my406 css-bfa6kz r-1qd0xha r-ad9z0x r-bcqeeo r-qvutc0']\").click()\n",
    "\n",
    "\n",
    "\n",
    "#r-100o5oe r-1niwhzg r-17gur6a r-1yadl64 r-deolkf r-homxoj r-poiln3 r-7cikom r-1ny4l3l r-1inuy60 r-utggzx r-vmopo1 r-1w50u8q r-1lrr6ok r-1dz5y72 r-1ttztb7 r-13qz1uu"
   ]
  }
 ],
 "metadata": {
  "kernelspec": {
   "display_name": "Python 3",
   "language": "python",
   "name": "python3"
  },
  "language_info": {
   "codemirror_mode": {
    "name": "ipython",
    "version": 3
   },
   "file_extension": ".py",
   "mimetype": "text/x-python",
   "name": "python",
   "nbconvert_exporter": "python",
   "pygments_lexer": "ipython3",
   "version": "3.7.4"
  }
 },
 "nbformat": 4,
 "nbformat_minor": 2
}
